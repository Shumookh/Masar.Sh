{
  "nbformat": 4,
  "nbformat_minor": 0,
  "metadata": {
    "colab": {
      "provenance": [],
      "authorship_tag": "ABX9TyOhBkZsFt/EeJjoXXwph1DR",
      "include_colab_link": true
    },
    "kernelspec": {
      "name": "python3",
      "display_name": "Python 3"
    },
    "language_info": {
      "name": "python"
    }
  },
  "cells": [
    {
      "cell_type": "markdown",
      "metadata": {
        "id": "view-in-github",
        "colab_type": "text"
      },
      "source": [
        "<a href=\"https://colab.research.google.com/github/Shumookh/Masar.Sh/blob/main/if_condition_Sh.ipynb\" target=\"_parent\"><img src=\"https://colab.research.google.com/assets/colab-badge.svg\" alt=\"Open In Colab\"/></a>"
      ]
    },
    {
      "cell_type": "code",
      "execution_count": 11,
      "metadata": {
        "colab": {
          "base_uri": "https://localhost:8080/"
        },
        "id": "-SLTHKDAoewd",
        "outputId": "3ab382a2-6823-4be5-dba4-fbc9ee464880"
      },
      "outputs": [
        {
          "output_type": "stream",
          "name": "stdout",
          "text": [
            "Enter years of experience: 14\n",
            "Enter performance rating (excellent or poor): poor\n",
            "The bonus amount is: 0.15\n"
          ]
        }
      ],
      "source": [
        "# Define input variable from user:\n",
        "years_of_experience = int(input(\"Enter years of experience: \"))\n",
        "performance_rating = input(\"Enter performance rating (excellent or poor): \")\n",
        "\n",
        "if years_of_experience <= 10:              # 1.1 conditionfor years\n",
        "    if performance_rating == \"excellent\":  # 2 condition for performance\n",
        "        reward = 0.10\n",
        "    elif performance_rating == \"poor\":\n",
        "        reward = 0.05\n",
        "    else:\n",
        "        print(\"Invalid performance rating entered.\")\n",
        "        reward = 0\n",
        "else:                                       #1.2 condition for  years\n",
        "    if performance_rating == \"excellent\":   # 3 condition for performance\n",
        "        reward = 0.2\n",
        "    elif performance_rating == \"poor\":\n",
        "        reward = 0.15\n",
        "    else:\n",
        "        print(\"Invalid performance rating entered.\")\n",
        "        reward = 0\n",
        "if reward > 0:                              # 4 condation for user rating\n",
        "    bonus = reward\n",
        "    print(\"The bonus  is:\", bonus)\n",
        "else:\n",
        "    print(\"No bonus is applicable.\")"
      ]
    }
  ]
}