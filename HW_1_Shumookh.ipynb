{
  "nbformat": 4,
  "nbformat_minor": 0,
  "metadata": {
    "colab": {
      "provenance": [],
      "authorship_tag": "ABX9TyOJMxXE5jz37xbHnQ+7e8a+",
      "include_colab_link": true
    },
    "kernelspec": {
      "name": "python3",
      "display_name": "Python 3"
    },
    "language_info": {
      "name": "python"
    }
  },
  "cells": [
    {
      "cell_type": "markdown",
      "metadata": {
        "id": "view-in-github",
        "colab_type": "text"
      },
      "source": [
        "<a href=\"https://colab.research.google.com/github/Shumookh/Masar.Sh/blob/main/HW_1_Shumookh.ipynb\" target=\"_parent\"><img src=\"https://colab.research.google.com/assets/colab-badge.svg\" alt=\"Open In Colab\"/></a>"
      ]
    },
    {
      "cell_type": "code",
      "execution_count": null,
      "metadata": {
        "colab": {
          "base_uri": "https://localhost:8080/"
        },
        "id": "qNMtQgWNrhRw",
        "outputId": "d36f0af6-79eb-48ec-9351-b070261200c5"
      },
      "outputs": [
        {
          "output_type": "stream",
          "name": "stdout",
          "text": [
            "أهلا بالجميع, أنا اسمي  شموخ ,عمري 30  ,     سأصبح أفضل عالم بيانات\n"
          ]
        }
      ],
      "source": [
        "# نعرف القيم المدخلة وهي الاسم و العمر\n",
        "name = 'شموخ'\n",
        "age = '30'\n",
        "#أمر الطباعة\n",
        "\n",
        "print(f'أهلا بالجميع, أنا اسمي  {name} ,عمري {age}  ,     سأصبح أفضل عالم بيانات')\n"
      ]
    }
  ]
}